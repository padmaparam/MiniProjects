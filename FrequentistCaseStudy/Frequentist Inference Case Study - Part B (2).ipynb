{
 "cells": [
  {
   "cell_type": "markdown",
   "metadata": {},
   "source": [
    "# Frequentist Inference Case Study - Part B"
   ]
  },
  {
   "cell_type": "markdown",
   "metadata": {},
   "source": [
    "## Learning objectives"
   ]
  },
  {
   "cell_type": "markdown",
   "metadata": {},
   "source": [
    "Welcome to Part B of the Frequentist inference case study! The purpose of this case study is to help you apply the concepts associated with Frequentist inference in Python. In particular, you'll practice writing Python code to apply the following statistical concepts: \n",
    "* the _z_-statistic\n",
    "* the _t_-statistic\n",
    "* the difference and relationship between the two\n",
    "* the Central Limit Theorem, including its assumptions and consequences\n",
    "* how to estimate the population mean and standard deviation from a sample\n",
    "* the concept of a sampling distribution of a test statistic, particularly for the mean\n",
    "* how to combine these concepts to calculate a confidence interval"
   ]
  },
  {
   "cell_type": "markdown",
   "metadata": {},
   "source": [
    "In the previous notebook, we used only data from a known normal distribution. **You'll now tackle real data, rather than simulated data, and answer some relevant real-world business problems using the data.**"
   ]
  },
  {
   "cell_type": "markdown",
   "metadata": {},
   "source": [
    "## Hospital medical charges"
   ]
  },
  {
   "cell_type": "markdown",
   "metadata": {},
   "source": [
    "Imagine that a hospital has hired you as their data scientist. An administrator is working on the hospital's business operations plan and needs you to help them answer some business questions. \n",
    "\n",
    "In this assignment notebook, you're going to use frequentist statistical inference on a data sample to answer the questions:\n",
    "* has the hospital's revenue stream fallen below a key threshold?\n",
    "* are patients with insurance really charged different amounts than those without?\n",
    "\n",
    "Answering that last question with a frequentist approach makes some assumptions, and requires some knowledge, about the two groups."
   ]
  },
  {
   "cell_type": "markdown",
   "metadata": {},
   "source": [
    "We are going to use some data on medical charges obtained from [Kaggle](https://www.kaggle.com/easonlai/sample-insurance-claim-prediction-dataset). \n",
    "\n",
    "For the purposes of this exercise, assume the observations are the result of random sampling from our single hospital. Recall that in the previous assignment, we introduced the Central Limit Theorem (CLT), and its consequence that the distributions of sample statistics approach a normal distribution as $n$ increases. The amazing thing about this is that it applies to the sampling distributions of statistics that have been calculated from even highly non-normal distributions of data! Recall, also, that hypothesis testing is very much based on making inferences about such sample statistics. You're going to rely heavily on the CLT to apply frequentist (parametric) tests to answer the questions in this notebook."
   ]
  },
  {
   "cell_type": "code",
   "execution_count": 1,
   "metadata": {},
   "outputs": [],
   "source": [
    "import pandas as pd\n",
    "import numpy as np\n",
    "import matplotlib.pyplot as plt\n",
    "from scipy.stats import t\n",
    "from numpy.random import seed\n",
    "medical = pd.read_csv('insurance2.csv')"
   ]
  },
  {
   "cell_type": "code",
   "execution_count": 2,
   "metadata": {},
   "outputs": [
    {
     "data": {
      "text/plain": [
       "(1338, 8)"
      ]
     },
     "execution_count": 2,
     "metadata": {},
     "output_type": "execute_result"
    }
   ],
   "source": [
    "medical.shape"
   ]
  },
  {
   "cell_type": "code",
   "execution_count": 3,
   "metadata": {},
   "outputs": [
    {
     "data": {
      "text/html": [
       "<div>\n",
       "<style scoped>\n",
       "    .dataframe tbody tr th:only-of-type {\n",
       "        vertical-align: middle;\n",
       "    }\n",
       "\n",
       "    .dataframe tbody tr th {\n",
       "        vertical-align: top;\n",
       "    }\n",
       "\n",
       "    .dataframe thead th {\n",
       "        text-align: right;\n",
       "    }\n",
       "</style>\n",
       "<table border=\"1\" class=\"dataframe\">\n",
       "  <thead>\n",
       "    <tr style=\"text-align: right;\">\n",
       "      <th></th>\n",
       "      <th>age</th>\n",
       "      <th>sex</th>\n",
       "      <th>bmi</th>\n",
       "      <th>children</th>\n",
       "      <th>smoker</th>\n",
       "      <th>region</th>\n",
       "      <th>charges</th>\n",
       "      <th>insuranceclaim</th>\n",
       "    </tr>\n",
       "  </thead>\n",
       "  <tbody>\n",
       "    <tr>\n",
       "      <th>0</th>\n",
       "      <td>19</td>\n",
       "      <td>0</td>\n",
       "      <td>27.900</td>\n",
       "      <td>0</td>\n",
       "      <td>1</td>\n",
       "      <td>3</td>\n",
       "      <td>16884.92400</td>\n",
       "      <td>1</td>\n",
       "    </tr>\n",
       "    <tr>\n",
       "      <th>1</th>\n",
       "      <td>18</td>\n",
       "      <td>1</td>\n",
       "      <td>33.770</td>\n",
       "      <td>1</td>\n",
       "      <td>0</td>\n",
       "      <td>2</td>\n",
       "      <td>1725.55230</td>\n",
       "      <td>1</td>\n",
       "    </tr>\n",
       "    <tr>\n",
       "      <th>2</th>\n",
       "      <td>28</td>\n",
       "      <td>1</td>\n",
       "      <td>33.000</td>\n",
       "      <td>3</td>\n",
       "      <td>0</td>\n",
       "      <td>2</td>\n",
       "      <td>4449.46200</td>\n",
       "      <td>0</td>\n",
       "    </tr>\n",
       "    <tr>\n",
       "      <th>3</th>\n",
       "      <td>33</td>\n",
       "      <td>1</td>\n",
       "      <td>22.705</td>\n",
       "      <td>0</td>\n",
       "      <td>0</td>\n",
       "      <td>1</td>\n",
       "      <td>21984.47061</td>\n",
       "      <td>0</td>\n",
       "    </tr>\n",
       "    <tr>\n",
       "      <th>4</th>\n",
       "      <td>32</td>\n",
       "      <td>1</td>\n",
       "      <td>28.880</td>\n",
       "      <td>0</td>\n",
       "      <td>0</td>\n",
       "      <td>1</td>\n",
       "      <td>3866.85520</td>\n",
       "      <td>1</td>\n",
       "    </tr>\n",
       "  </tbody>\n",
       "</table>\n",
       "</div>"
      ],
      "text/plain": [
       "   age  sex     bmi  children  smoker  region      charges  insuranceclaim\n",
       "0   19    0  27.900         0       1       3  16884.92400               1\n",
       "1   18    1  33.770         1       0       2   1725.55230               1\n",
       "2   28    1  33.000         3       0       2   4449.46200               0\n",
       "3   33    1  22.705         0       0       1  21984.47061               0\n",
       "4   32    1  28.880         0       0       1   3866.85520               1"
      ]
     },
     "execution_count": 3,
     "metadata": {},
     "output_type": "execute_result"
    }
   ],
   "source": [
    "medical.head()"
   ]
  },
  {
   "cell_type": "markdown",
   "metadata": {},
   "source": [
    "__Q1:__ Plot the histogram of charges and calculate the mean and standard deviation. Comment on the appropriateness of these statistics for the data."
   ]
  },
  {
   "cell_type": "markdown",
   "metadata": {},
   "source": [
    "__A:__"
   ]
  },
  {
   "cell_type": "code",
   "execution_count": 4,
   "metadata": {},
   "outputs": [
    {
     "data": {
      "text/plain": [
       "count     1338.000000\n",
       "mean     13270.422265\n",
       "std      12110.011237\n",
       "min       1121.873900\n",
       "25%       4740.287150\n",
       "50%       9382.033000\n",
       "75%      16639.912515\n",
       "max      63770.428010\n",
       "Name: charges, dtype: float64"
      ]
     },
     "execution_count": 4,
     "metadata": {},
     "output_type": "execute_result"
    }
   ],
   "source": [
    "medical.charges.describe()"
   ]
  },
  {
   "cell_type": "code",
   "execution_count": 5,
   "metadata": {},
   "outputs": [
    {
     "data": {
      "text/plain": [
       "<matplotlib.axes._subplots.AxesSubplot at 0x1f84b98a4c0>"
      ]
     },
     "execution_count": 5,
     "metadata": {},
     "output_type": "execute_result"
    },
    {
     "data": {
      "image/png": "[encoded data removed]",
      "text/plain": [
       "<Figure size 432x288 with 1 Axes>"
      ]
     },
     "metadata": {
      "needs_background": "light"
     },
     "output_type": "display_data"
    }
   ],
   "source": [
    "medical.charges.hist(bins=100)"
   ]
  },
  {
   "cell_type": "markdown",
   "metadata": {},
   "source": [
    "__Q2:__ The administrator is concerned that the actual average charge has fallen below 12,000, threatening the hospital's operational model. On the assumption that these data represent a random sample of charges, how would you justify that these data allow you to answer that question? And what would be the most appropriate frequentist test, of the ones discussed so far, to apply?"
   ]
  },
  {
   "cell_type": "markdown",
   "metadata": {},
   "source": [
    "__A:__ *** what is meant by appropriate frequentist test? does it mean t or z statistics?\n",
    "it needs t statistics.\n",
    "Since number of sample is 1338, greater than 30, but population std is unkown. So, t-test."
   ]
  },
  {
   "cell_type": "markdown",
   "metadata": {},
   "source": [
    "__Q3:__ Given the nature of the administrator's concern, what is the appropriate confidence interval in this case? A ***one-sided*** or ***two-sided*** interval? (Refresh your understanding of this concept on p. 399 of the *AoS*). Calculate the critical value and the relevant 95% confidence interval for the mean, and comment on whether the administrator should be concerned."
   ]
  },
  {
   "cell_type": "markdown",
   "metadata": {},
   "source": [
    "__A:__ The question does not arrise  because the histogram is skewed. So it will be one sided. "
   ]
  },
  {
   "cell_type": "code",
   "execution_count": 6,
   "metadata": {},
   "outputs": [
    {
     "data": {
      "text/plain": [
       "13270.422265141257"
      ]
     },
     "execution_count": 6,
     "metadata": {},
     "output_type": "execute_result"
    }
   ],
   "source": [
    "mn=np.mean(medical.charges)\n",
    "mn"
   ]
  },
  {
   "cell_type": "code",
   "execution_count": 7,
   "metadata": {},
   "outputs": [
    {
     "data": {
      "text/plain": [
       "12110.011236693994"
      ]
     },
     "execution_count": 7,
     "metadata": {},
     "output_type": "execute_result"
    }
   ],
   "source": [
    "sd=np.std(medical.charges, ddof=1)\n",
    "sd"
   ]
  },
  {
   "cell_type": "code",
   "execution_count": 8,
   "metadata": {},
   "outputs": [
    {
     "data": {
      "text/plain": [
       "1.6459941145571317"
      ]
     },
     "execution_count": 8,
     "metadata": {},
     "output_type": "execute_result"
    }
   ],
   "source": [
    "#To find 95% confidence interval\n",
    "critical_t_value= t.ppf(0.95,1337)\n",
    "critical_t_value"
   ]
  },
  {
   "cell_type": "code",
   "execution_count": 9,
   "metadata": {},
   "outputs": [
    {
     "data": {
      "text/plain": [
       "544.9350813250251"
      ]
     },
     "execution_count": 9,
     "metadata": {},
     "output_type": "execute_result"
    }
   ],
   "source": [
    "#Margin of error = t * std / sq.root of sample size\n",
    "me = critical_t_value * sd/np.sqrt(1338)\n",
    "me"
   ]
  },
  {
   "cell_type": "code",
   "execution_count": 10,
   "metadata": {},
   "outputs": [
    {
     "data": {
      "text/plain": [
       "[12725.48718381623, 13815.357346466282]"
      ]
     },
     "execution_count": 10,
     "metadata": {},
     "output_type": "execute_result"
    }
   ],
   "source": [
    "#confidence interval = Mean +- Margin Error\n",
    "ci = [mn-me, mn+me]\n",
    "ci"
   ]
  },
  {
   "cell_type": "markdown",
   "metadata": {},
   "source": [
    "The administrator then wants to know whether people with insurance really are charged a different amount to those without.\n",
    "\n",
    "__Q4:__ State the null and alternative hypothesis here. Use the _t_-test for the difference between means, where the pooled standard deviation of the two groups is given by:\n",
    "\\begin{equation}\n",
    "s_p = \\sqrt{\\frac{(n_0 - 1)s^2_0 + (n_1 - 1)s^2_1}{n_0 + n_1 - 2}}\n",
    "\\end{equation}\n",
    "\n",
    "and the *t*-test statistic is then given by:\n",
    "\n",
    "\\begin{equation}\n",
    "t = \\frac{\\bar{x}_0 - \\bar{x}_1}{s_p \\sqrt{1/n_0 + 1/n_1}}.\n",
    "\\end{equation}\n",
    "\n",
    "(If you need some reminding of the general definition of ***t-statistic***, check out the definition on p. 404 of *AoS*). \n",
    "\n",
    "What assumption about the variances of the two groups are we making here?"
   ]
  },
  {
   "cell_type": "markdown",
   "metadata": {},
   "source": [
    "__A:__\n",
    "Null Hypthesis : People with and without medical Insurance are charged the same.\n",
    "\n",
    "Alternate Hypthesis: People with insurance are charged a different amount to those without.\n",
    "\n",
    "Since sample size >30 and we dont know the population mean, we use t-statistic.\n",
    "This is 2 sided tail. "
   ]
  },
  {
   "cell_type": "markdown",
   "metadata": {},
   "source": [
    "__Q5:__ Perform this hypothesis test both manually, using the above formulae, and then using the appropriate function from [scipy.stats](https://docs.scipy.org/doc/scipy/reference/stats.html#statistical-tests) (hint, you're looking for a function to perform a _t_-test on two independent samples). For the manual approach, calculate the value of the test statistic and then its probability (the p-value). Verify you get the same results from both."
   ]
  },
  {
   "cell_type": "markdown",
   "metadata": {},
   "source": [
    "__A:__ "
   ]
  },
  {
   "cell_type": "code",
   "execution_count": 11,
   "metadata": {},
   "outputs": [
    {
     "data": {
      "text/html": [
       "<div>\n",
       "<style scoped>\n",
       "    .dataframe tbody tr th:only-of-type {\n",
       "        vertical-align: middle;\n",
       "    }\n",
       "\n",
       "    .dataframe tbody tr th {\n",
       "        vertical-align: top;\n",
       "    }\n",
       "\n",
       "    .dataframe thead th {\n",
       "        text-align: right;\n",
       "    }\n",
       "</style>\n",
       "<table border=\"1\" class=\"dataframe\">\n",
       "  <thead>\n",
       "    <tr style=\"text-align: right;\">\n",
       "      <th></th>\n",
       "      <th>age</th>\n",
       "      <th>sex</th>\n",
       "      <th>bmi</th>\n",
       "      <th>children</th>\n",
       "      <th>smoker</th>\n",
       "      <th>region</th>\n",
       "      <th>charges</th>\n",
       "      <th>insuranceclaim</th>\n",
       "    </tr>\n",
       "  </thead>\n",
       "  <tbody>\n",
       "    <tr>\n",
       "      <th>0</th>\n",
       "      <td>19</td>\n",
       "      <td>0</td>\n",
       "      <td>27.90</td>\n",
       "      <td>0</td>\n",
       "      <td>1</td>\n",
       "      <td>3</td>\n",
       "      <td>16884.92400</td>\n",
       "      <td>1</td>\n",
       "    </tr>\n",
       "    <tr>\n",
       "      <th>1</th>\n",
       "      <td>18</td>\n",
       "      <td>1</td>\n",
       "      <td>33.77</td>\n",
       "      <td>1</td>\n",
       "      <td>0</td>\n",
       "      <td>2</td>\n",
       "      <td>1725.55230</td>\n",
       "      <td>1</td>\n",
       "    </tr>\n",
       "    <tr>\n",
       "      <th>4</th>\n",
       "      <td>32</td>\n",
       "      <td>1</td>\n",
       "      <td>28.88</td>\n",
       "      <td>0</td>\n",
       "      <td>0</td>\n",
       "      <td>1</td>\n",
       "      <td>3866.85520</td>\n",
       "      <td>1</td>\n",
       "    </tr>\n",
       "    <tr>\n",
       "      <th>6</th>\n",
       "      <td>46</td>\n",
       "      <td>0</td>\n",
       "      <td>33.44</td>\n",
       "      <td>1</td>\n",
       "      <td>0</td>\n",
       "      <td>2</td>\n",
       "      <td>8240.58960</td>\n",
       "      <td>1</td>\n",
       "    </tr>\n",
       "    <tr>\n",
       "      <th>10</th>\n",
       "      <td>25</td>\n",
       "      <td>1</td>\n",
       "      <td>26.22</td>\n",
       "      <td>0</td>\n",
       "      <td>0</td>\n",
       "      <td>0</td>\n",
       "      <td>2721.32080</td>\n",
       "      <td>1</td>\n",
       "    </tr>\n",
       "    <tr>\n",
       "      <th>...</th>\n",
       "      <td>...</td>\n",
       "      <td>...</td>\n",
       "      <td>...</td>\n",
       "      <td>...</td>\n",
       "      <td>...</td>\n",
       "      <td>...</td>\n",
       "      <td>...</td>\n",
       "      <td>...</td>\n",
       "    </tr>\n",
       "    <tr>\n",
       "      <th>1330</th>\n",
       "      <td>57</td>\n",
       "      <td>0</td>\n",
       "      <td>25.74</td>\n",
       "      <td>2</td>\n",
       "      <td>0</td>\n",
       "      <td>2</td>\n",
       "      <td>12629.16560</td>\n",
       "      <td>1</td>\n",
       "    </tr>\n",
       "    <tr>\n",
       "      <th>1331</th>\n",
       "      <td>23</td>\n",
       "      <td>0</td>\n",
       "      <td>33.40</td>\n",
       "      <td>0</td>\n",
       "      <td>0</td>\n",
       "      <td>3</td>\n",
       "      <td>10795.93733</td>\n",
       "      <td>1</td>\n",
       "    </tr>\n",
       "    <tr>\n",
       "      <th>1334</th>\n",
       "      <td>18</td>\n",
       "      <td>0</td>\n",
       "      <td>31.92</td>\n",
       "      <td>0</td>\n",
       "      <td>0</td>\n",
       "      <td>0</td>\n",
       "      <td>2205.98080</td>\n",
       "      <td>1</td>\n",
       "    </tr>\n",
       "    <tr>\n",
       "      <th>1335</th>\n",
       "      <td>18</td>\n",
       "      <td>0</td>\n",
       "      <td>36.85</td>\n",
       "      <td>0</td>\n",
       "      <td>0</td>\n",
       "      <td>2</td>\n",
       "      <td>1629.83350</td>\n",
       "      <td>1</td>\n",
       "    </tr>\n",
       "    <tr>\n",
       "      <th>1337</th>\n",
       "      <td>61</td>\n",
       "      <td>0</td>\n",
       "      <td>29.07</td>\n",
       "      <td>0</td>\n",
       "      <td>1</td>\n",
       "      <td>1</td>\n",
       "      <td>29141.36030</td>\n",
       "      <td>1</td>\n",
       "    </tr>\n",
       "  </tbody>\n",
       "</table>\n",
       "<p>783 rows × 8 columns</p>\n",
       "</div>"
      ],
      "text/plain": [
       "      age  sex    bmi  children  smoker  region      charges  insuranceclaim\n",
       "0      19    0  27.90         0       1       3  16884.92400               1\n",
       "1      18    1  33.77         1       0       2   1725.55230               1\n",
       "4      32    1  28.88         0       0       1   3866.85520               1\n",
       "6      46    0  33.44         1       0       2   8240.58960               1\n",
       "10     25    1  26.22         0       0       0   2721.32080               1\n",
       "...   ...  ...    ...       ...     ...     ...          ...             ...\n",
       "1330   57    0  25.74         2       0       2  12629.16560               1\n",
       "1331   23    0  33.40         0       0       3  10795.93733               1\n",
       "1334   18    0  31.92         0       0       0   2205.98080               1\n",
       "1335   18    0  36.85         0       0       2   1629.83350               1\n",
       "1337   61    0  29.07         0       1       1  29141.36030               1\n",
       "\n",
       "[783 rows x 8 columns]"
      ]
     },
     "execution_count": 11,
     "metadata": {},
     "output_type": "execute_result"
    }
   ],
   "source": [
    "medical_insure = medical[medical['insuranceclaim']==1]\n",
    "medical_insure"
   ]
  },
  {
   "cell_type": "code",
   "execution_count": 12,
   "metadata": {},
   "outputs": [
    {
     "data": {
      "text/html": [
       "<div>\n",
       "<style scoped>\n",
       "    .dataframe tbody tr th:only-of-type {\n",
       "        vertical-align: middle;\n",
       "    }\n",
       "\n",
       "    .dataframe tbody tr th {\n",
       "        vertical-align: top;\n",
       "    }\n",
       "\n",
       "    .dataframe thead th {\n",
       "        text-align: right;\n",
       "    }\n",
       "</style>\n",
       "<table border=\"1\" class=\"dataframe\">\n",
       "  <thead>\n",
       "    <tr style=\"text-align: right;\">\n",
       "      <th></th>\n",
       "      <th>age</th>\n",
       "      <th>sex</th>\n",
       "      <th>bmi</th>\n",
       "      <th>children</th>\n",
       "      <th>smoker</th>\n",
       "      <th>region</th>\n",
       "      <th>charges</th>\n",
       "      <th>insuranceclaim</th>\n",
       "    </tr>\n",
       "  </thead>\n",
       "  <tbody>\n",
       "    <tr>\n",
       "      <th>2</th>\n",
       "      <td>28</td>\n",
       "      <td>1</td>\n",
       "      <td>33.000</td>\n",
       "      <td>3</td>\n",
       "      <td>0</td>\n",
       "      <td>2</td>\n",
       "      <td>4449.46200</td>\n",
       "      <td>0</td>\n",
       "    </tr>\n",
       "    <tr>\n",
       "      <th>3</th>\n",
       "      <td>33</td>\n",
       "      <td>1</td>\n",
       "      <td>22.705</td>\n",
       "      <td>0</td>\n",
       "      <td>0</td>\n",
       "      <td>1</td>\n",
       "      <td>21984.47061</td>\n",
       "      <td>0</td>\n",
       "    </tr>\n",
       "    <tr>\n",
       "      <th>5</th>\n",
       "      <td>31</td>\n",
       "      <td>0</td>\n",
       "      <td>25.740</td>\n",
       "      <td>0</td>\n",
       "      <td>0</td>\n",
       "      <td>2</td>\n",
       "      <td>3756.62160</td>\n",
       "      <td>0</td>\n",
       "    </tr>\n",
       "    <tr>\n",
       "      <th>7</th>\n",
       "      <td>37</td>\n",
       "      <td>0</td>\n",
       "      <td>27.740</td>\n",
       "      <td>3</td>\n",
       "      <td>0</td>\n",
       "      <td>1</td>\n",
       "      <td>7281.50560</td>\n",
       "      <td>0</td>\n",
       "    </tr>\n",
       "    <tr>\n",
       "      <th>8</th>\n",
       "      <td>37</td>\n",
       "      <td>1</td>\n",
       "      <td>29.830</td>\n",
       "      <td>2</td>\n",
       "      <td>0</td>\n",
       "      <td>0</td>\n",
       "      <td>6406.41070</td>\n",
       "      <td>0</td>\n",
       "    </tr>\n",
       "    <tr>\n",
       "      <th>...</th>\n",
       "      <td>...</td>\n",
       "      <td>...</td>\n",
       "      <td>...</td>\n",
       "      <td>...</td>\n",
       "      <td>...</td>\n",
       "      <td>...</td>\n",
       "      <td>...</td>\n",
       "      <td>...</td>\n",
       "    </tr>\n",
       "    <tr>\n",
       "      <th>1324</th>\n",
       "      <td>31</td>\n",
       "      <td>1</td>\n",
       "      <td>25.935</td>\n",
       "      <td>1</td>\n",
       "      <td>0</td>\n",
       "      <td>1</td>\n",
       "      <td>4239.89265</td>\n",
       "      <td>0</td>\n",
       "    </tr>\n",
       "    <tr>\n",
       "      <th>1328</th>\n",
       "      <td>23</td>\n",
       "      <td>0</td>\n",
       "      <td>24.225</td>\n",
       "      <td>2</td>\n",
       "      <td>0</td>\n",
       "      <td>0</td>\n",
       "      <td>22395.74424</td>\n",
       "      <td>0</td>\n",
       "    </tr>\n",
       "    <tr>\n",
       "      <th>1332</th>\n",
       "      <td>52</td>\n",
       "      <td>0</td>\n",
       "      <td>44.700</td>\n",
       "      <td>3</td>\n",
       "      <td>0</td>\n",
       "      <td>3</td>\n",
       "      <td>11411.68500</td>\n",
       "      <td>0</td>\n",
       "    </tr>\n",
       "    <tr>\n",
       "      <th>1333</th>\n",
       "      <td>50</td>\n",
       "      <td>1</td>\n",
       "      <td>30.970</td>\n",
       "      <td>3</td>\n",
       "      <td>0</td>\n",
       "      <td>1</td>\n",
       "      <td>10600.54830</td>\n",
       "      <td>0</td>\n",
       "    </tr>\n",
       "    <tr>\n",
       "      <th>1336</th>\n",
       "      <td>21</td>\n",
       "      <td>0</td>\n",
       "      <td>25.800</td>\n",
       "      <td>0</td>\n",
       "      <td>0</td>\n",
       "      <td>3</td>\n",
       "      <td>2007.94500</td>\n",
       "      <td>0</td>\n",
       "    </tr>\n",
       "  </tbody>\n",
       "</table>\n",
       "<p>555 rows × 8 columns</p>\n",
       "</div>"
      ],
      "text/plain": [
       "      age  sex     bmi  children  smoker  region      charges  insuranceclaim\n",
       "2      28    1  33.000         3       0       2   4449.46200               0\n",
       "3      33    1  22.705         0       0       1  21984.47061               0\n",
       "5      31    0  25.740         0       0       2   3756.62160               0\n",
       "7      37    0  27.740         3       0       1   7281.50560               0\n",
       "8      37    1  29.830         2       0       0   6406.41070               0\n",
       "...   ...  ...     ...       ...     ...     ...          ...             ...\n",
       "1324   31    1  25.935         1       0       1   4239.89265               0\n",
       "1328   23    0  24.225         2       0       0  22395.74424               0\n",
       "1332   52    0  44.700         3       0       3  11411.68500               0\n",
       "1333   50    1  30.970         3       0       1  10600.54830               0\n",
       "1336   21    0  25.800         0       0       3   2007.94500               0\n",
       "\n",
       "[555 rows x 8 columns]"
      ]
     },
     "execution_count": 12,
     "metadata": {},
     "output_type": "execute_result"
    }
   ],
   "source": [
    "medical_no_insure = medical[medical['insuranceclaim']==0]\n",
    "medical_no_insure"
   ]
  },
  {
   "cell_type": "code",
   "execution_count": 13,
   "metadata": {},
   "outputs": [],
   "source": [
    "x0 = medical_no_insure['charges'].mean()\n",
    "x1= medical_insure['charges'].mean()\n",
    "s0 = medical_no_insure['charges'].std()\n",
    "s1 = medical_insure['charges'].std()\n",
    "n0=len(medical_no_insure)\n",
    "n1=len(medical_insure)"
   ]
  },
  {
   "cell_type": "code",
   "execution_count": 30,
   "metadata": {},
   "outputs": [
    {
     "data": {
      "text/plain": [
       "(8821.421892306294, 16423.928276537663)"
      ]
     },
     "execution_count": 30,
     "metadata": {},
     "output_type": "execute_result"
    }
   ],
   "source": [
    "x0,x1"
   ]
  },
  {
   "cell_type": "code",
   "execution_count": 31,
   "metadata": {},
   "outputs": [
    {
     "data": {
      "text/plain": [
       "(41557492.81508627, 197288105.14611322, 554, 782, 1340)"
      ]
     },
     "execution_count": 31,
     "metadata": {},
     "output_type": "execute_result"
    }
   ],
   "source": [
    "s0**2, s1**2, n0-1,n1-1, n0+n1+2"
   ]
  },
  {
   "cell_type": "code",
   "execution_count": 32,
   "metadata": {},
   "outputs": [
    {
     "data": {
      "text/plain": [
       "11502.8273373731"
      ]
     },
     "execution_count": 32,
     "metadata": {},
     "output_type": "execute_result"
    }
   ],
   "source": [
    "sp = np.sqrt((554*41557492.82 + 782*197288105.15)/1340)\n",
    "sp"
   ]
  },
  {
   "cell_type": "code",
   "execution_count": 33,
   "metadata": {},
   "outputs": [
    {
     "data": {
      "text/plain": [
       "-11.91109006386081"
      ]
     },
     "execution_count": 33,
     "metadata": {},
     "output_type": "execute_result"
    }
   ],
   "source": [
    " t=(x0-x1)/((sp)*np.sqrt((1/n0)+ (1/n1)))\n",
    " t"
   ]
  },
  {
   "cell_type": "code",
   "execution_count": 34,
   "metadata": {},
   "outputs": [
    {
     "data": {
      "text/plain": [
       "Ttest_indResult(statistic=-11.893299030876712, pvalue=4.461230231620717e-31)"
      ]
     },
     "execution_count": 34,
     "metadata": {},
     "output_type": "execute_result"
    }
   ],
   "source": [
    "from scipy.stats import ttest_ind\n",
    "ttest_ind(medical_no_insure['charges'], medical_insure['charges'])"
   ]
  },
  {
   "cell_type": "markdown",
   "metadata": {},
   "source": [
    "Congratulations! Hopefully you got the exact same numerical results. This shows that you correctly calculated the numbers by hand. Secondly, you used the correct function and saw that it's much easier to use. All you need to do is pass your data to it."
   ]
  },
  {
   "cell_type": "markdown",
   "metadata": {},
   "source": [
    "__Q6:__ Conceptual question: look through the documentation for statistical test functions in scipy.stats. You'll see the above _t_-test for a sample, but can you see an equivalent one for performing a *z*-test from a sample? Comment on your answer."
   ]
  },
  {
   "cell_type": "markdown",
   "metadata": {},
   "source": [
    "__A:__ z score calculates each value relative to sample mean. "
   ]
  },
  {
   "cell_type": "code",
   "execution_count": 36,
   "metadata": {},
   "outputs": [
    {
     "data": {
      "text/plain": [
       "array([-6.78801994e-01,  2.04372957e+00, -7.86374217e-01, -2.39091454e-01,\n",
       "       -3.74960991e-01,  3.12104515e+00, -1.08438292e+00, -9.97756533e-01,\n",
       "       -4.06403063e-01,  8.74192773e-01,  5.35222948e-01, -6.41797474e-01,\n",
       "       -1.11726805e+00,  1.05435304e+00, -1.01217601e+00, -6.01124612e-01,\n",
       "       -3.95755858e-01, -3.89346337e-01, -4.25691378e-01, -8.42775735e-01,\n",
       "        5.91313817e-01, -8.13823547e-01, -1.18270190e-01,  7.43078699e-01,\n",
       "       -4.39687971e-01, -6.70231434e-01,  3.31411132e+00, -7.27837092e-01,\n",
       "       -3.77605556e-01,  1.37278906e+00, -3.13935433e-01, -7.56751426e-01,\n",
       "       -6.80082732e-01,  3.43478172e-01,  3.29267038e-01, -4.80136735e-01,\n",
       "       -7.84780880e-01,  5.09866659e-01, -8.03690999e-01, -5.92725789e-01,\n",
       "       -1.00763940e+00, -7.67636711e-01,  4.14069142e-01, -3.31484256e-01,\n",
       "       -1.10481742e+00,  2.00845714e-01,  3.71275871e+00, -4.25266968e-01,\n",
       "        7.44474487e-01, -1.11616092e+00, -1.05201870e+00,  2.87256236e+00,\n",
       "        2.88081782e+00,  1.57608231e+00,  1.44960242e+00,  1.85143967e+00,\n",
       "       -5.71857917e-01, -1.08356282e+00, -5.73882696e-01, -3.86150326e-01,\n",
       "       -2.70814125e-01, -5.69703290e-01, -6.19620847e-01, -4.18063954e-01,\n",
       "       -6.20043946e-01, -3.67282951e-01,  2.50698549e-01, -4.39600430e-02,\n",
       "       -7.47744734e-01, -1.69235459e-01, -7.51384975e-01, -5.42762585e-01,\n",
       "       -6.05292296e-01, -1.03773945e+00,  5.00399054e-01,  1.27754845e-01,\n",
       "        6.50672576e-01, -2.59958845e-01, -6.96148990e-01,  1.88840840e+00,\n",
       "       -1.02272371e-01, -8.20364094e-01, -5.92891966e-01, -4.67955191e-02,\n",
       "       -9.84005783e-01, -8.42834665e-01,  2.52462409e+00, -5.53961212e-01,\n",
       "        4.91522099e-01, -1.10137672e+00,  5.45345412e-01, -3.27795122e-01,\n",
       "        1.64933069e+00, -6.76668204e-01, -5.38349454e-01,  4.08941782e+00,\n",
       "       -2.52232666e-01, -1.08518143e+00, -7.42289465e-01,  6.22297779e-01,\n",
       "       -7.08102847e-01,  4.19003839e-01,  4.68231432e-01,  1.80750168e+00,\n",
       "        8.95742745e-01,  7.15851878e-02, -1.10267297e+00,  1.23626404e-01,\n",
       "       -9.34327665e-01, -1.03574969e+00,  6.37720948e-01,  1.60496457e-01,\n",
       "       -7.11769754e-01, -1.67576835e-01,  1.77874857e+00, -7.63161615e-01,\n",
       "       -1.10498144e+00,  6.64637878e-02, -3.22120180e-01, -6.94328257e-01,\n",
       "        1.64903378e+00,  1.76320113e+00, -1.66482761e-01, -1.09988760e+00,\n",
       "       -6.44932126e-01, -6.09664895e-01,  2.46095018e+00, -8.16608928e-01,\n",
       "        5.15651527e-01,  7.94361596e-01, -9.14160117e-02,  3.34712758e-01,\n",
       "       -4.09446575e-01, -6.10402982e-01, -5.19102764e-01,  4.67214027e-01,\n",
       "        1.71816899e-02,  1.90496702e-02, -1.12005092e+00,  1.89704091e-01,\n",
       "       -6.31973542e-01, -9.66299167e-01, -8.75822804e-01,  7.15581105e-01,\n",
       "       -1.24887165e-01, -1.09483916e-01, -8.29033183e-01,  7.13216936e-01,\n",
       "        4.98061528e-01,  1.99334056e+00,  1.18531932e+00,  9.60323833e-01,\n",
       "       -4.61829361e-01, -8.05636429e-02, -8.76396375e-01, -6.52621935e-01,\n",
       "        2.97397628e-01,  9.15402242e-02, -2.01020925e-01, -4.64885649e-02,\n",
       "        6.88395855e-02,  2.24826206e-01, -8.63450095e-01, -7.19847859e-01,\n",
       "       -4.37453847e-02, -3.36748047e-01, -7.37026769e-01,  8.74784153e-01,\n",
       "       -5.80888100e-01,  1.51953054e+00,  2.28093392e-02,  1.50207902e-01,\n",
       "       -3.51879702e-01,  1.55003816e+00, -6.07855099e-01, -7.10766214e-01,\n",
       "        7.91591152e-01, -4.49419467e-01,  4.08744340e-01, -6.30225440e-01,\n",
       "       -2.03262832e-01, -7.43580870e-01, -1.06382972e+00,  4.75188688e-01,\n",
       "       -1.76805614e-01,  2.42218524e-01,  3.63934947e-01, -1.11624293e+00,\n",
       "        6.83663455e-01,  5.93406928e-01,  2.24626312e+00, -1.02788904e+00,\n",
       "        1.04550236e+00,  1.15143870e-01,  5.67318692e-01,  2.43632986e+00,\n",
       "       -1.02860696e+00,  1.41610141e+00, -6.03936682e-01, -9.47601514e-02,\n",
       "       -4.42038484e-01, -3.14338301e-01, -8.91879226e-01, -8.96984603e-01,\n",
       "        8.38270562e-02,  2.93490883e+00, -6.33407630e-02, -5.55942208e-01,\n",
       "        2.36593207e+00,  1.61411513e-01, -1.10444838e+00, -4.27639109e-01,\n",
       "       -4.42350049e-01,  5.68898999e-04, -9.13447928e-02, -4.07560352e-01,\n",
       "       -8.95094312e-01,  6.42119057e-01,  3.67387841e-01, -7.72237181e-01,\n",
       "        5.78223822e-02, -9.34706358e-01, -2.42939251e-01,  4.24097097e-01,\n",
       "       -1.02504028e+00, -6.31575014e-01,  6.83564716e-01, -8.71788886e-01,\n",
       "        6.35423263e-01,  1.36705914e+00, -1.17667429e+00, -6.27543542e-01,\n",
       "       -7.70135601e-01, -4.41658649e-01, -6.10729582e-02, -9.71160176e-01,\n",
       "       -2.14250148e-01,  3.49203218e-01,  1.12778204e+00, -8.17116427e-01,\n",
       "       -6.81032776e-01, -4.25001318e-02, -3.49321960e-01, -3.21142724e-01,\n",
       "        5.60107002e-02, -3.21833146e-01, -2.55882432e-01, -9.49013328e-01,\n",
       "        2.49873845e+00,  6.40882763e-01, -3.34618744e-01,  3.72102990e+00,\n",
       "       -6.76137780e-01,  2.04902315e-01, -4.18875768e-01, -8.83657997e-02,\n",
       "        1.52074515e-01, -7.39470797e-01,  2.07601900e+00, -1.83156948e-02,\n",
       "       -3.60393443e-01, -6.18541415e-01, -2.48208375e-01,  5.68941124e-01,\n",
       "        5.49959662e-01,  2.07331709e-01, -1.17676061e+00,  1.61791410e-01,\n",
       "       -6.29652055e-01,  2.70392325e+00, -1.00430910e+00,  3.16193286e+00,\n",
       "       -8.26122894e-01, -5.33495439e-01,  1.70032233e-02, -5.35094629e-01,\n",
       "       -4.20480834e-01, -1.10141476e+00,  1.99636490e-01, -7.92744197e-02,\n",
       "       -9.88078943e-01,  1.15759005e-01,  6.66260346e-01,  3.79325099e-01,\n",
       "        1.99467820e-01, -3.34860496e-01,  1.63655770e+00,  1.93145332e-01,\n",
       "       -7.12111262e-01,  9.71677726e-02,  8.05160966e-01, -8.28650771e-01,\n",
       "       -3.36824022e-02,  4.52812120e-01, -1.11698101e+00,  4.67707001e-01,\n",
       "        1.28976732e+00, -5.88469023e-01, -1.29738524e-01, -5.26758625e-01,\n",
       "       -7.60113623e-01, -9.94374377e-01, -2.74935944e-01, -2.93163738e-01,\n",
       "        2.96860064e+00, -2.42160158e-01,  2.70012553e-01, -2.84864213e-01,\n",
       "       -4.48249750e-01,  1.46533674e+00, -6.94164858e-01, -3.73755019e-01,\n",
       "       -5.60784252e-01, -9.45473294e-01, -2.50272506e-01, -7.07261044e-01,\n",
       "       -6.36871449e-01, -2.75544543e-01, -1.04310744e+00, -8.55750063e-01,\n",
       "        9.21480774e-02, -3.82012569e-01,  3.40380714e-01, -6.81996390e-01,\n",
       "       -5.02603175e-01, -9.28262656e-01, -8.11064950e-01, -9.53385928e-01,\n",
       "        5.74810657e-01,  1.12529120e+00, -4.19818880e-01, -5.51967392e-01,\n",
       "       -6.36838456e-01, -3.75600572e-01,  5.43809554e-01, -9.07866542e-01,\n",
       "        8.22612175e-01,  4.51543726e-01, -2.59339813e-01,  5.35386968e-01,\n",
       "       -5.22206519e-01, -6.04792853e-03, -3.44847757e-01,  6.68899602e-01,\n",
       "       -6.87777726e-01, -8.42929623e-01, -4.43202534e-01,  1.08245392e-02,\n",
       "        2.68898394e+00, -3.36552447e-01, -3.94240836e-01, -3.89626897e-01,\n",
       "       -8.35057994e-01, -9.36600780e-01, -9.68151194e-01, -6.12268999e-01,\n",
       "       -2.44943613e-01,  2.48652289e-01, -1.02471123e+00, -1.04089357e+00,\n",
       "       -2.05820867e-02, -6.45913588e-01, -6.60988797e-01, -6.17091596e-01,\n",
       "        9.85707650e-01, -9.59892425e-01, -1.85450172e-01, -5.53342654e-01,\n",
       "        7.18819417e-01, -5.17515173e-01, -3.99178188e-01,  2.56368273e+00,\n",
       "       -9.17268781e-01,  4.98533418e-01, -6.44034002e-01,  2.24158649e-02,\n",
       "       -1.01191173e+00, -1.19545208e+00, -1.11679649e+00,  1.72528396e+00,\n",
       "        4.21297503e-01, -6.66734834e-01, -7.67880497e-01,  5.88207061e-01,\n",
       "       -9.45753442e-01, -8.48997473e-01,  1.05446795e-01, -6.32707313e-01,\n",
       "       -2.02368776e-01, -8.60396149e-01, -3.48710696e-02, -5.94507676e-01,\n",
       "       -9.77161395e-01, -9.18924269e-01,  1.37135122e-01,  2.59221702e+00,\n",
       "       -6.70902658e-01,  1.61139664e+00,  1.23821793e+00, -6.06512047e-01,\n",
       "       -1.85817057e-01, -6.38711712e-02,  3.03053510e+00, -8.45018713e-01,\n",
       "       -2.60306998e-01,  2.01375959e-01, -5.18104348e-01,  1.17985201e+00,\n",
       "       -1.29636012e-01, -2.17817928e-01, -3.52395213e-01,  1.32599631e+00,\n",
       "       -1.06331176e+00, -3.01024418e-02, -6.81297732e-01, -6.80540718e-01,\n",
       "        2.23889531e+00,  1.76424882e-01, -8.57636446e-02,  4.30991367e+00,\n",
       "        5.12921047e-01, -9.48992826e-01, -7.50461287e-01,  5.70414559e-01,\n",
       "        2.67013353e+00, -1.10397865e+00,  1.98331869e+00,  5.08183301e-01,\n",
       "        2.12278760e+00, -1.10496094e+00, -8.78781504e-01, -2.32330916e-01,\n",
       "       -8.11596747e-01,  7.24462899e-02, -8.48968548e-01,  4.24301982e-01,\n",
       "       -3.52947179e-01, -4.83263460e-01, -2.75734460e-01,  8.58358974e-01,\n",
       "        6.80494956e-01, -6.61198301e-01,  9.84382546e-01,  4.75511476e-01,\n",
       "       -6.78034895e-01, -4.60434342e-01,  9.62370287e-01,  1.58396422e+00,\n",
       "        2.72589183e-01, -8.12014536e-01,  3.84728549e-01, -6.61455043e-01,\n",
       "        1.23509593e+00, -8.30656982e-01, -9.18740826e-01, -3.35461049e-02,\n",
       "       -5.44855703e-01, -9.97613016e-01, -4.85660172e-01,  8.43570798e-01,\n",
       "       -4.63443658e-01, -1.10120407e+00, -3.71263369e-02,  1.81597619e-01,\n",
       "       -1.85989709e-01, -8.76478385e-01, -1.34597934e-01,  2.84077388e+00,\n",
       "       -3.85570878e-01,  1.25603603e-01,  3.83139631e-01,  3.05950930e-01,\n",
       "       -4.95437471e-01, -2.47365392e-01,  8.70193006e-01, -5.74042151e-01,\n",
       "        1.57463479e+00, -2.58957572e-01, -6.66378654e-01, -6.44461315e-01,\n",
       "        2.12044940e+00, -3.66975414e-01, -6.81215722e-01, -3.60913557e-01,\n",
       "        9.71882750e-02, -3.37849143e-02, -5.42490991e-01,  7.61415695e-01,\n",
       "       -7.27768652e-01,  1.55530952e+00, -3.76949478e-01, -6.03461889e-01,\n",
       "       -4.07202658e-01, -1.36930216e-02,  1.45978380e+00, -5.75235857e-01,\n",
       "        4.36120093e+00, -5.35354500e-01,  2.28881871e+00, -1.10530948e+00,\n",
       "        3.08261083e-01, -5.28787364e-01, -7.39563387e-01, -1.99397274e-01,\n",
       "       -6.37076474e-01, -3.45911725e-01, -5.88064809e-02, -3.04771584e-01,\n",
       "       -6.25050878e-01,  5.67995272e-01,  3.91897957e-01,  8.73885237e-01,\n",
       "       -2.85048983e-01, -7.02586800e-01, -4.97780206e-01, -4.28874029e-01,\n",
       "       -1.17686852e+00,  1.08798733e+00,  4.06060882e-01,  3.85751971e-01,\n",
       "        3.29811343e+00,  2.13695769e-01, -6.64087319e-01, -8.60816531e-01,\n",
       "       -3.18479271e-01, -2.30359111e-01,  2.40577996e-01, -6.32597248e-01,\n",
       "        3.31937237e-01, -7.19224449e-01, -1.10253053e+00, -4.45215736e-02,\n",
       "       -5.19970341e-01, -2.62008700e-01, -1.13436073e+00,  4.82820724e-01,\n",
       "       -1.06458026e+00, -6.95728896e-01, -5.52727581e-01, -9.48746797e-01,\n",
       "       -8.71432458e-01,  1.96423637e+00, -3.02057376e-01, -2.91973246e-01,\n",
       "        1.54400202e+00,  3.80534656e-01, -1.10077244e+00,  1.65747474e+00,\n",
       "       -2.51482150e-01, -5.27333772e-01, -7.11340282e-01,  2.10758500e+00,\n",
       "        4.02171064e-01,  2.76231846e-01, -1.05787835e+00])"
      ]
     },
     "execution_count": 36,
     "metadata": {},
     "output_type": "execute_result"
    }
   ],
   "source": [
    "from scipy.stats import zscore\n",
    "zscore(medical_no_insure['charges'])"
   ]
  },
  {
   "cell_type": "markdown",
   "metadata": {},
   "source": [
    "## Learning outcomes"
   ]
  },
  {
   "cell_type": "markdown",
   "metadata": {},
   "source": [
    "Having completed this project notebook, you now have good hands-on experience:\n",
    "* using the central limit theorem to help you apply frequentist techniques to answer questions that pertain to very non-normally distributed data from the real world\n",
    "* performing inference using such data to answer business questions\n",
    "* forming a hypothesis and framing the null and alternative hypotheses\n",
    "* testing this using a _t_-test"
   ]
  }
 ],
 "metadata": {
  "kernelspec": {
   "display_name": "Python 3",
   "language": "python",
   "name": "python3"
  },
  "language_info": {
   "codemirror_mode": {
    "name": "ipython",
    "version": 3
   },
   "file_extension": ".py",
   "mimetype": "text/x-python",
   "name": "python",
   "nbconvert_exporter": "python",
   "pygments_lexer": "ipython3",
   "version": "3.8.3"
  }
 },
 "nbformat": 4,
 "nbformat_minor": 2
}
